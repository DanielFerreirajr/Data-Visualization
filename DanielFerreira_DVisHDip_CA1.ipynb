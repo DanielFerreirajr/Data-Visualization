{
 "cells": [
  {
   "cell_type": "markdown",
   "id": "6a39e8b3",
   "metadata": {},
   "source": [
    "# Daniel Ferreira dos Santos junior 2019233\n",
    "## HDIP Data Analytics  - Data Visualization Techniques  - David McQuaid  "
   ]
  },
  {
   "cell_type": "code",
   "execution_count": 1,
   "id": "75cf089b",
   "metadata": {},
   "outputs": [],
   "source": [
    "import numpy as np\n",
    "import pandas as pd"
   ]
  },
  {
   "cell_type": "code",
   "execution_count": 2,
   "id": "a45cc980",
   "metadata": {},
   "outputs": [],
   "source": [
    "df=pd.read_csv(\"board_games.csv\")"
   ]
  },
  {
   "cell_type": "code",
   "execution_count": 3,
   "id": "f9519a8f",
   "metadata": {},
   "outputs": [
    {
     "data": {
      "text/html": [
       "<div>\n",
       "<style scoped>\n",
       "    .dataframe tbody tr th:only-of-type {\n",
       "        vertical-align: middle;\n",
       "    }\n",
       "\n",
       "    .dataframe tbody tr th {\n",
       "        vertical-align: top;\n",
       "    }\n",
       "\n",
       "    .dataframe thead th {\n",
       "        text-align: right;\n",
       "    }\n",
       "</style>\n",
       "<table border=\"1\" class=\"dataframe\">\n",
       "  <thead>\n",
       "    <tr style=\"text-align: right;\">\n",
       "      <th></th>\n",
       "      <th>game_id</th>\n",
       "      <th>description</th>\n",
       "      <th>image</th>\n",
       "      <th>max_players</th>\n",
       "      <th>max_playtime</th>\n",
       "      <th>min_age</th>\n",
       "      <th>min_players</th>\n",
       "      <th>min_playtime</th>\n",
       "      <th>name</th>\n",
       "      <th>playing_time</th>\n",
       "      <th>...</th>\n",
       "      <th>artist</th>\n",
       "      <th>category</th>\n",
       "      <th>compilation</th>\n",
       "      <th>designer</th>\n",
       "      <th>expansion</th>\n",
       "      <th>family</th>\n",
       "      <th>mechanic</th>\n",
       "      <th>publisher</th>\n",
       "      <th>average_rating</th>\n",
       "      <th>users_rated</th>\n",
       "    </tr>\n",
       "  </thead>\n",
       "  <tbody>\n",
       "    <tr>\n",
       "      <th>0</th>\n",
       "      <td>1</td>\n",
       "      <td>Die Macher is a game about seven sequential po...</td>\n",
       "      <td>//cf.geekdo-images.com/images/pic159509.jpg</td>\n",
       "      <td>5</td>\n",
       "      <td>240</td>\n",
       "      <td>14</td>\n",
       "      <td>3</td>\n",
       "      <td>240</td>\n",
       "      <td>Die Macher</td>\n",
       "      <td>240</td>\n",
       "      <td>...</td>\n",
       "      <td>Marcus Gschwendtner</td>\n",
       "      <td>Economic,Negotiation,Political</td>\n",
       "      <td>NaN</td>\n",
       "      <td>Karl-Heinz Schmiel</td>\n",
       "      <td>NaN</td>\n",
       "      <td>Country: Germany,Valley Games Classic Line</td>\n",
       "      <td>Area Control / Area Influence,Auction/Bidding,...</td>\n",
       "      <td>Hans im Glück Verlags-GmbH,Moskito Spiele,Vall...</td>\n",
       "      <td>7.66508</td>\n",
       "      <td>4498</td>\n",
       "    </tr>\n",
       "    <tr>\n",
       "      <th>1</th>\n",
       "      <td>2</td>\n",
       "      <td>Dragonmaster is a trick-taking card game based...</td>\n",
       "      <td>//cf.geekdo-images.com/images/pic184174.jpg</td>\n",
       "      <td>4</td>\n",
       "      <td>30</td>\n",
       "      <td>12</td>\n",
       "      <td>3</td>\n",
       "      <td>30</td>\n",
       "      <td>Dragonmaster</td>\n",
       "      <td>30</td>\n",
       "      <td>...</td>\n",
       "      <td>Bob Pepper</td>\n",
       "      <td>Card Game,Fantasy</td>\n",
       "      <td>NaN</td>\n",
       "      <td>G. W. \"Jerry\" D'Arcey</td>\n",
       "      <td>NaN</td>\n",
       "      <td>Animals: Dragons</td>\n",
       "      <td>Trick-taking</td>\n",
       "      <td>E.S. Lowe,Milton Bradley</td>\n",
       "      <td>6.60815</td>\n",
       "      <td>478</td>\n",
       "    </tr>\n",
       "    <tr>\n",
       "      <th>2</th>\n",
       "      <td>3</td>\n",
       "      <td>Part of the Knizia tile-laying trilogy, Samura...</td>\n",
       "      <td>//cf.geekdo-images.com/images/pic3211873.jpg</td>\n",
       "      <td>4</td>\n",
       "      <td>60</td>\n",
       "      <td>10</td>\n",
       "      <td>2</td>\n",
       "      <td>30</td>\n",
       "      <td>Samurai</td>\n",
       "      <td>60</td>\n",
       "      <td>...</td>\n",
       "      <td>Franz Vohwinkel</td>\n",
       "      <td>Abstract Strategy,Medieval</td>\n",
       "      <td>NaN</td>\n",
       "      <td>Reiner Knizia</td>\n",
       "      <td>NaN</td>\n",
       "      <td>Asian Theme,Country: Japan,Knizia tile-laying ...</td>\n",
       "      <td>Area Control / Area Influence,Hand Management,...</td>\n",
       "      <td>999 Games,ABACUSSPIELE,Astrel Games,Ceilikan J...</td>\n",
       "      <td>7.44119</td>\n",
       "      <td>12019</td>\n",
       "    </tr>\n",
       "    <tr>\n",
       "      <th>3</th>\n",
       "      <td>4</td>\n",
       "      <td>When you see the triangular box and the luxuri...</td>\n",
       "      <td>//cf.geekdo-images.com/images/pic285299.jpg</td>\n",
       "      <td>4</td>\n",
       "      <td>60</td>\n",
       "      <td>12</td>\n",
       "      <td>2</td>\n",
       "      <td>60</td>\n",
       "      <td>Tal der Könige</td>\n",
       "      <td>60</td>\n",
       "      <td>...</td>\n",
       "      <td>NaN</td>\n",
       "      <td>Ancient</td>\n",
       "      <td>NaN</td>\n",
       "      <td>Christian Beierer</td>\n",
       "      <td>NaN</td>\n",
       "      <td>Country: Egypt,Promotional Board Games</td>\n",
       "      <td>Action Point Allowance System,Area Control / A...</td>\n",
       "      <td>KOSMOS</td>\n",
       "      <td>6.60675</td>\n",
       "      <td>314</td>\n",
       "    </tr>\n",
       "    <tr>\n",
       "      <th>4</th>\n",
       "      <td>5</td>\n",
       "      <td>In Acquire, each player strategically invests ...</td>\n",
       "      <td>//cf.geekdo-images.com/images/pic342163.jpg</td>\n",
       "      <td>6</td>\n",
       "      <td>90</td>\n",
       "      <td>12</td>\n",
       "      <td>3</td>\n",
       "      <td>90</td>\n",
       "      <td>Acquire</td>\n",
       "      <td>90</td>\n",
       "      <td>...</td>\n",
       "      <td>Scott Okumura,Peter Whitley</td>\n",
       "      <td>Economic</td>\n",
       "      <td>NaN</td>\n",
       "      <td>Sid Sackson</td>\n",
       "      <td>NaN</td>\n",
       "      <td>3M Bookshelf Series</td>\n",
       "      <td>Hand Management,Stock Holding,Tile Placement</td>\n",
       "      <td>3M,Avalon Hill,Avalon Hill (Hasbro),Dujardin,G...</td>\n",
       "      <td>7.35830</td>\n",
       "      <td>15195</td>\n",
       "    </tr>\n",
       "  </tbody>\n",
       "</table>\n",
       "<p>5 rows × 22 columns</p>\n",
       "</div>"
      ],
      "text/plain": [
       "   game_id                                        description  \\\n",
       "0        1  Die Macher is a game about seven sequential po...   \n",
       "1        2  Dragonmaster is a trick-taking card game based...   \n",
       "2        3  Part of the Knizia tile-laying trilogy, Samura...   \n",
       "3        4  When you see the triangular box and the luxuri...   \n",
       "4        5  In Acquire, each player strategically invests ...   \n",
       "\n",
       "                                          image  max_players  max_playtime  \\\n",
       "0   //cf.geekdo-images.com/images/pic159509.jpg            5           240   \n",
       "1   //cf.geekdo-images.com/images/pic184174.jpg            4            30   \n",
       "2  //cf.geekdo-images.com/images/pic3211873.jpg            4            60   \n",
       "3   //cf.geekdo-images.com/images/pic285299.jpg            4            60   \n",
       "4   //cf.geekdo-images.com/images/pic342163.jpg            6            90   \n",
       "\n",
       "   min_age  min_players  min_playtime            name  playing_time  ...  \\\n",
       "0       14            3           240      Die Macher           240  ...   \n",
       "1       12            3            30    Dragonmaster            30  ...   \n",
       "2       10            2            30         Samurai            60  ...   \n",
       "3       12            2            60  Tal der Könige            60  ...   \n",
       "4       12            3            90         Acquire            90  ...   \n",
       "\n",
       "                        artist                        category compilation  \\\n",
       "0          Marcus Gschwendtner  Economic,Negotiation,Political         NaN   \n",
       "1                   Bob Pepper               Card Game,Fantasy         NaN   \n",
       "2              Franz Vohwinkel      Abstract Strategy,Medieval         NaN   \n",
       "3                          NaN                         Ancient         NaN   \n",
       "4  Scott Okumura,Peter Whitley                        Economic         NaN   \n",
       "\n",
       "                designer expansion  \\\n",
       "0     Karl-Heinz Schmiel       NaN   \n",
       "1  G. W. \"Jerry\" D'Arcey       NaN   \n",
       "2          Reiner Knizia       NaN   \n",
       "3      Christian Beierer       NaN   \n",
       "4            Sid Sackson       NaN   \n",
       "\n",
       "                                              family  \\\n",
       "0         Country: Germany,Valley Games Classic Line   \n",
       "1                                   Animals: Dragons   \n",
       "2  Asian Theme,Country: Japan,Knizia tile-laying ...   \n",
       "3             Country: Egypt,Promotional Board Games   \n",
       "4                                3M Bookshelf Series   \n",
       "\n",
       "                                            mechanic  \\\n",
       "0  Area Control / Area Influence,Auction/Bidding,...   \n",
       "1                                       Trick-taking   \n",
       "2  Area Control / Area Influence,Hand Management,...   \n",
       "3  Action Point Allowance System,Area Control / A...   \n",
       "4       Hand Management,Stock Holding,Tile Placement   \n",
       "\n",
       "                                           publisher average_rating  \\\n",
       "0  Hans im Glück Verlags-GmbH,Moskito Spiele,Vall...        7.66508   \n",
       "1                           E.S. Lowe,Milton Bradley        6.60815   \n",
       "2  999 Games,ABACUSSPIELE,Astrel Games,Ceilikan J...        7.44119   \n",
       "3                                             KOSMOS        6.60675   \n",
       "4  3M,Avalon Hill,Avalon Hill (Hasbro),Dujardin,G...        7.35830   \n",
       "\n",
       "  users_rated  \n",
       "0        4498  \n",
       "1         478  \n",
       "2       12019  \n",
       "3         314  \n",
       "4       15195  \n",
       "\n",
       "[5 rows x 22 columns]"
      ]
     },
     "execution_count": 3,
     "metadata": {},
     "output_type": "execute_result"
    }
   ],
   "source": [
    "df.head()"
   ]
  },
  {
   "cell_type": "code",
   "execution_count": 4,
   "id": "81371dbf",
   "metadata": {},
   "outputs": [
    {
     "data": {
      "text/html": [
       "<div>\n",
       "<style scoped>\n",
       "    .dataframe tbody tr th:only-of-type {\n",
       "        vertical-align: middle;\n",
       "    }\n",
       "\n",
       "    .dataframe tbody tr th {\n",
       "        vertical-align: top;\n",
       "    }\n",
       "\n",
       "    .dataframe thead th {\n",
       "        text-align: right;\n",
       "    }\n",
       "</style>\n",
       "<table border=\"1\" class=\"dataframe\">\n",
       "  <thead>\n",
       "    <tr style=\"text-align: right;\">\n",
       "      <th></th>\n",
       "      <th>game_id</th>\n",
       "      <th>description</th>\n",
       "      <th>image</th>\n",
       "      <th>max_players</th>\n",
       "      <th>max_playtime</th>\n",
       "      <th>min_age</th>\n",
       "      <th>min_players</th>\n",
       "      <th>min_playtime</th>\n",
       "      <th>name</th>\n",
       "      <th>playing_time</th>\n",
       "      <th>...</th>\n",
       "      <th>artist</th>\n",
       "      <th>category</th>\n",
       "      <th>compilation</th>\n",
       "      <th>designer</th>\n",
       "      <th>expansion</th>\n",
       "      <th>family</th>\n",
       "      <th>mechanic</th>\n",
       "      <th>publisher</th>\n",
       "      <th>average_rating</th>\n",
       "      <th>users_rated</th>\n",
       "    </tr>\n",
       "  </thead>\n",
       "  <tbody>\n",
       "    <tr>\n",
       "      <th>10527</th>\n",
       "      <td>214996</td>\n",
       "      <td>Description from the publisher:&amp;#10;&amp;#10;Silve...</td>\n",
       "      <td>//cf.geekdo-images.com/images/pic3093082.png</td>\n",
       "      <td>2</td>\n",
       "      <td>480</td>\n",
       "      <td>12</td>\n",
       "      <td>1</td>\n",
       "      <td>30</td>\n",
       "      <td>Silver Bayonet: The First Team in Vietnam, 196...</td>\n",
       "      <td>480</td>\n",
       "      <td>...</td>\n",
       "      <td>Charles Kibler</td>\n",
       "      <td>Vietnam War,Wargame</td>\n",
       "      <td>NaN</td>\n",
       "      <td>Gene Billingsley,Mitchell Land</td>\n",
       "      <td>NaN</td>\n",
       "      <td>GMT Operational System</td>\n",
       "      <td>Hex-and-Counter</td>\n",
       "      <td>GMT Games</td>\n",
       "      <td>8.35333</td>\n",
       "      <td>75</td>\n",
       "    </tr>\n",
       "    <tr>\n",
       "      <th>10528</th>\n",
       "      <td>215437</td>\n",
       "      <td>Codex: Card-Time Strategy is a customizable, n...</td>\n",
       "      <td>//cf.geekdo-images.com/images/pic3290122.jpg</td>\n",
       "      <td>5</td>\n",
       "      <td>45</td>\n",
       "      <td>13</td>\n",
       "      <td>2</td>\n",
       "      <td>45</td>\n",
       "      <td>Codex: Card-Time Strategy – Core Set</td>\n",
       "      <td>45</td>\n",
       "      <td>...</td>\n",
       "      <td>NaN</td>\n",
       "      <td>Card Game,Fantasy,Fighting,Video Game Theme</td>\n",
       "      <td>NaN</td>\n",
       "      <td>David Sirlin</td>\n",
       "      <td>Codex: Card-Time Strategy – Flagstone Dominion...</td>\n",
       "      <td>Fantasy Strike</td>\n",
       "      <td>Deck / Pool Building,Hand Management,Variable ...</td>\n",
       "      <td>Sirlin Games</td>\n",
       "      <td>8.08780</td>\n",
       "      <td>82</td>\n",
       "    </tr>\n",
       "    <tr>\n",
       "      <th>10529</th>\n",
       "      <td>215471</td>\n",
       "      <td>Time to walk about town and take some pictures...</td>\n",
       "      <td>//cf.geekdo-images.com/images/pic3290975.png</td>\n",
       "      <td>4</td>\n",
       "      <td>20</td>\n",
       "      <td>12</td>\n",
       "      <td>2</td>\n",
       "      <td>20</td>\n",
       "      <td>Wind the Film!</td>\n",
       "      <td>20</td>\n",
       "      <td>...</td>\n",
       "      <td>宝井 貴子 (Takako Takarai)</td>\n",
       "      <td>Card Game</td>\n",
       "      <td>NaN</td>\n",
       "      <td>Saashi</td>\n",
       "      <td>NaN</td>\n",
       "      <td>NaN</td>\n",
       "      <td>Hand Management,Set Collection</td>\n",
       "      <td>Saashi &amp; Saashi</td>\n",
       "      <td>7.28016</td>\n",
       "      <td>63</td>\n",
       "    </tr>\n",
       "    <tr>\n",
       "      <th>10530</th>\n",
       "      <td>216201</td>\n",
       "      <td>The race is on for the robots of the Robo Rall...</td>\n",
       "      <td>//cf.geekdo-images.com/images/pic3374227.jpg</td>\n",
       "      <td>6</td>\n",
       "      <td>120</td>\n",
       "      <td>12</td>\n",
       "      <td>2</td>\n",
       "      <td>20</td>\n",
       "      <td>Robo Rally (2016)</td>\n",
       "      <td>120</td>\n",
       "      <td>...</td>\n",
       "      <td>NaN</td>\n",
       "      <td>Miniatures,Racing,Science Fiction</td>\n",
       "      <td>NaN</td>\n",
       "      <td>Richard Garfield</td>\n",
       "      <td>NaN</td>\n",
       "      <td>Robots</td>\n",
       "      <td>Action / Movement Programming,Grid Movement,Mo...</td>\n",
       "      <td>Avalon Hill (Hasbro),Hasbro</td>\n",
       "      <td>7.45871</td>\n",
       "      <td>341</td>\n",
       "    </tr>\n",
       "    <tr>\n",
       "      <th>10531</th>\n",
       "      <td>216725</td>\n",
       "      <td>The deluxe edition comes in a double tall box ...</td>\n",
       "      <td>//cf.geekdo-images.com/images/pic3308211.jpg</td>\n",
       "      <td>5</td>\n",
       "      <td>60</td>\n",
       "      <td>14</td>\n",
       "      <td>1</td>\n",
       "      <td>30</td>\n",
       "      <td>Villages of Valeria: Deluxe Kickstarter Edition</td>\n",
       "      <td>60</td>\n",
       "      <td>...</td>\n",
       "      <td>Mihajlo Dimitrievski</td>\n",
       "      <td>Card Game,City Building</td>\n",
       "      <td>Villages of Valeria,Villages of Valeria: Bard ...</td>\n",
       "      <td>Rick Holzgrafe,Isaias Vallejo</td>\n",
       "      <td>NaN</td>\n",
       "      <td>Crowdfunding: Kickstarter,Tableau Building</td>\n",
       "      <td>Card Drafting,Hand Management</td>\n",
       "      <td>Daily Magic Games</td>\n",
       "      <td>7.52941</td>\n",
       "      <td>119</td>\n",
       "    </tr>\n",
       "  </tbody>\n",
       "</table>\n",
       "<p>5 rows × 22 columns</p>\n",
       "</div>"
      ],
      "text/plain": [
       "       game_id                                        description  \\\n",
       "10527   214996  Description from the publisher:&#10;&#10;Silve...   \n",
       "10528   215437  Codex: Card-Time Strategy is a customizable, n...   \n",
       "10529   215471  Time to walk about town and take some pictures...   \n",
       "10530   216201  The race is on for the robots of the Robo Rall...   \n",
       "10531   216725  The deluxe edition comes in a double tall box ...   \n",
       "\n",
       "                                              image  max_players  \\\n",
       "10527  //cf.geekdo-images.com/images/pic3093082.png            2   \n",
       "10528  //cf.geekdo-images.com/images/pic3290122.jpg            5   \n",
       "10529  //cf.geekdo-images.com/images/pic3290975.png            4   \n",
       "10530  //cf.geekdo-images.com/images/pic3374227.jpg            6   \n",
       "10531  //cf.geekdo-images.com/images/pic3308211.jpg            5   \n",
       "\n",
       "       max_playtime  min_age  min_players  min_playtime  \\\n",
       "10527           480       12            1            30   \n",
       "10528            45       13            2            45   \n",
       "10529            20       12            2            20   \n",
       "10530           120       12            2            20   \n",
       "10531            60       14            1            30   \n",
       "\n",
       "                                                    name  playing_time  ...  \\\n",
       "10527  Silver Bayonet: The First Team in Vietnam, 196...           480  ...   \n",
       "10528               Codex: Card-Time Strategy – Core Set            45  ...   \n",
       "10529                                     Wind the Film!            20  ...   \n",
       "10530                                  Robo Rally (2016)           120  ...   \n",
       "10531    Villages of Valeria: Deluxe Kickstarter Edition            60  ...   \n",
       "\n",
       "                       artist                                     category  \\\n",
       "10527          Charles Kibler                          Vietnam War,Wargame   \n",
       "10528                     NaN  Card Game,Fantasy,Fighting,Video Game Theme   \n",
       "10529  宝井 貴子 (Takako Takarai)                                    Card Game   \n",
       "10530                     NaN            Miniatures,Racing,Science Fiction   \n",
       "10531    Mihajlo Dimitrievski                      Card Game,City Building   \n",
       "\n",
       "                                             compilation  \\\n",
       "10527                                                NaN   \n",
       "10528                                                NaN   \n",
       "10529                                                NaN   \n",
       "10530                                                NaN   \n",
       "10531  Villages of Valeria,Villages of Valeria: Bard ...   \n",
       "\n",
       "                             designer  \\\n",
       "10527  Gene Billingsley,Mitchell Land   \n",
       "10528                    David Sirlin   \n",
       "10529                          Saashi   \n",
       "10530                Richard Garfield   \n",
       "10531   Rick Holzgrafe,Isaias Vallejo   \n",
       "\n",
       "                                               expansion  \\\n",
       "10527                                                NaN   \n",
       "10528  Codex: Card-Time Strategy – Flagstone Dominion...   \n",
       "10529                                                NaN   \n",
       "10530                                                NaN   \n",
       "10531                                                NaN   \n",
       "\n",
       "                                           family  \\\n",
       "10527                      GMT Operational System   \n",
       "10528                              Fantasy Strike   \n",
       "10529                                         NaN   \n",
       "10530                                      Robots   \n",
       "10531  Crowdfunding: Kickstarter,Tableau Building   \n",
       "\n",
       "                                                mechanic  \\\n",
       "10527                                    Hex-and-Counter   \n",
       "10528  Deck / Pool Building,Hand Management,Variable ...   \n",
       "10529                     Hand Management,Set Collection   \n",
       "10530  Action / Movement Programming,Grid Movement,Mo...   \n",
       "10531                      Card Drafting,Hand Management   \n",
       "\n",
       "                         publisher average_rating users_rated  \n",
       "10527                    GMT Games        8.35333          75  \n",
       "10528                 Sirlin Games        8.08780          82  \n",
       "10529              Saashi & Saashi        7.28016          63  \n",
       "10530  Avalon Hill (Hasbro),Hasbro        7.45871         341  \n",
       "10531            Daily Magic Games        7.52941         119  \n",
       "\n",
       "[5 rows x 22 columns]"
      ]
     },
     "execution_count": 4,
     "metadata": {},
     "output_type": "execute_result"
    }
   ],
   "source": [
    "df.tail()"
   ]
  },
  {
   "cell_type": "code",
   "execution_count": 5,
   "id": "00ff1adb",
   "metadata": {},
   "outputs": [
    {
     "name": "stdout",
     "output_type": "stream",
     "text": [
      "<class 'pandas.core.frame.DataFrame'>\n",
      "RangeIndex: 10532 entries, 0 to 10531\n",
      "Data columns (total 22 columns):\n",
      " #   Column          Non-Null Count  Dtype  \n",
      "---  ------          --------------  -----  \n",
      " 0   game_id         10532 non-null  int64  \n",
      " 1   description     10532 non-null  object \n",
      " 2   image           10531 non-null  object \n",
      " 3   max_players     10532 non-null  int64  \n",
      " 4   max_playtime    10532 non-null  int64  \n",
      " 5   min_age         10532 non-null  int64  \n",
      " 6   min_players     10532 non-null  int64  \n",
      " 7   min_playtime    10532 non-null  int64  \n",
      " 8   name            10532 non-null  object \n",
      " 9   playing_time    10532 non-null  int64  \n",
      " 10  thumbnail       10531 non-null  object \n",
      " 11  year_published  10532 non-null  int64  \n",
      " 12  artist          7759 non-null   object \n",
      " 13  category        10438 non-null  object \n",
      " 14  compilation     410 non-null    object \n",
      " 15  designer        10406 non-null  object \n",
      " 16  expansion       2752 non-null   object \n",
      " 17  family          7724 non-null   object \n",
      " 18  mechanic        9582 non-null   object \n",
      " 19  publisher       10529 non-null  object \n",
      " 20  average_rating  10532 non-null  float64\n",
      " 21  users_rated     10532 non-null  int64  \n",
      "dtypes: float64(1), int64(9), object(12)\n",
      "memory usage: 1.8+ MB\n"
     ]
    }
   ],
   "source": [
    "df.info()"
   ]
  },
  {
   "cell_type": "code",
   "execution_count": 6,
   "id": "c5ca2165",
   "metadata": {},
   "outputs": [
    {
     "data": {
      "text/plain": [
       "(10532, 22)"
      ]
     },
     "execution_count": 6,
     "metadata": {},
     "output_type": "execute_result"
    }
   ],
   "source": [
    "df.shape"
   ]
  },
  {
   "cell_type": "code",
   "execution_count": 7,
   "id": "5dc73818",
   "metadata": {},
   "outputs": [
    {
     "data": {
      "text/html": [
       "<div>\n",
       "<style scoped>\n",
       "    .dataframe tbody tr th:only-of-type {\n",
       "        vertical-align: middle;\n",
       "    }\n",
       "\n",
       "    .dataframe tbody tr th {\n",
       "        vertical-align: top;\n",
       "    }\n",
       "\n",
       "    .dataframe thead th {\n",
       "        text-align: right;\n",
       "    }\n",
       "</style>\n",
       "<table border=\"1\" class=\"dataframe\">\n",
       "  <thead>\n",
       "    <tr style=\"text-align: right;\">\n",
       "      <th></th>\n",
       "      <th>game_id</th>\n",
       "      <th>max_players</th>\n",
       "      <th>max_playtime</th>\n",
       "      <th>min_age</th>\n",
       "      <th>min_players</th>\n",
       "      <th>min_playtime</th>\n",
       "      <th>playing_time</th>\n",
       "      <th>year_published</th>\n",
       "      <th>average_rating</th>\n",
       "      <th>users_rated</th>\n",
       "    </tr>\n",
       "  </thead>\n",
       "  <tbody>\n",
       "    <tr>\n",
       "      <th>count</th>\n",
       "      <td>10532.000000</td>\n",
       "      <td>10532.000000</td>\n",
       "      <td>10532.000000</td>\n",
       "      <td>10532.000000</td>\n",
       "      <td>10532.000000</td>\n",
       "      <td>10532.000000</td>\n",
       "      <td>10532.000000</td>\n",
       "      <td>10532.000000</td>\n",
       "      <td>10532.000000</td>\n",
       "      <td>10532.000000</td>\n",
       "    </tr>\n",
       "    <tr>\n",
       "      <th>mean</th>\n",
       "      <td>62059.203095</td>\n",
       "      <td>5.657330</td>\n",
       "      <td>91.341436</td>\n",
       "      <td>9.714964</td>\n",
       "      <td>2.070547</td>\n",
       "      <td>80.882738</td>\n",
       "      <td>91.341436</td>\n",
       "      <td>2003.070832</td>\n",
       "      <td>6.370856</td>\n",
       "      <td>870.081466</td>\n",
       "    </tr>\n",
       "    <tr>\n",
       "      <th>std</th>\n",
       "      <td>66223.716828</td>\n",
       "      <td>18.884403</td>\n",
       "      <td>659.754400</td>\n",
       "      <td>3.451226</td>\n",
       "      <td>0.664394</td>\n",
       "      <td>637.873893</td>\n",
       "      <td>659.754400</td>\n",
       "      <td>12.278296</td>\n",
       "      <td>0.850364</td>\n",
       "      <td>2880.214998</td>\n",
       "    </tr>\n",
       "    <tr>\n",
       "      <th>min</th>\n",
       "      <td>1.000000</td>\n",
       "      <td>0.000000</td>\n",
       "      <td>0.000000</td>\n",
       "      <td>0.000000</td>\n",
       "      <td>0.000000</td>\n",
       "      <td>0.000000</td>\n",
       "      <td>0.000000</td>\n",
       "      <td>1950.000000</td>\n",
       "      <td>1.384210</td>\n",
       "      <td>50.000000</td>\n",
       "    </tr>\n",
       "    <tr>\n",
       "      <th>25%</th>\n",
       "      <td>5444.500000</td>\n",
       "      <td>4.000000</td>\n",
       "      <td>30.000000</td>\n",
       "      <td>8.000000</td>\n",
       "      <td>2.000000</td>\n",
       "      <td>25.000000</td>\n",
       "      <td>30.000000</td>\n",
       "      <td>1998.000000</td>\n",
       "      <td>5.829585</td>\n",
       "      <td>85.000000</td>\n",
       "    </tr>\n",
       "    <tr>\n",
       "      <th>50%</th>\n",
       "      <td>28822.500000</td>\n",
       "      <td>4.000000</td>\n",
       "      <td>45.000000</td>\n",
       "      <td>10.000000</td>\n",
       "      <td>2.000000</td>\n",
       "      <td>45.000000</td>\n",
       "      <td>45.000000</td>\n",
       "      <td>2007.000000</td>\n",
       "      <td>6.392965</td>\n",
       "      <td>176.000000</td>\n",
       "    </tr>\n",
       "    <tr>\n",
       "      <th>75%</th>\n",
       "      <td>126409.500000</td>\n",
       "      <td>6.000000</td>\n",
       "      <td>90.000000</td>\n",
       "      <td>12.000000</td>\n",
       "      <td>2.000000</td>\n",
       "      <td>90.000000</td>\n",
       "      <td>90.000000</td>\n",
       "      <td>2012.000000</td>\n",
       "      <td>6.942675</td>\n",
       "      <td>518.000000</td>\n",
       "    </tr>\n",
       "    <tr>\n",
       "      <th>max</th>\n",
       "      <td>216725.000000</td>\n",
       "      <td>999.000000</td>\n",
       "      <td>60000.000000</td>\n",
       "      <td>42.000000</td>\n",
       "      <td>9.000000</td>\n",
       "      <td>60000.000000</td>\n",
       "      <td>60000.000000</td>\n",
       "      <td>2016.000000</td>\n",
       "      <td>9.003920</td>\n",
       "      <td>67655.000000</td>\n",
       "    </tr>\n",
       "  </tbody>\n",
       "</table>\n",
       "</div>"
      ],
      "text/plain": [
       "             game_id   max_players  max_playtime       min_age   min_players  \\\n",
       "count   10532.000000  10532.000000  10532.000000  10532.000000  10532.000000   \n",
       "mean    62059.203095      5.657330     91.341436      9.714964      2.070547   \n",
       "std     66223.716828     18.884403    659.754400      3.451226      0.664394   \n",
       "min         1.000000      0.000000      0.000000      0.000000      0.000000   \n",
       "25%      5444.500000      4.000000     30.000000      8.000000      2.000000   \n",
       "50%     28822.500000      4.000000     45.000000     10.000000      2.000000   \n",
       "75%    126409.500000      6.000000     90.000000     12.000000      2.000000   \n",
       "max    216725.000000    999.000000  60000.000000     42.000000      9.000000   \n",
       "\n",
       "       min_playtime  playing_time  year_published  average_rating  \\\n",
       "count  10532.000000  10532.000000    10532.000000    10532.000000   \n",
       "mean      80.882738     91.341436     2003.070832        6.370856   \n",
       "std      637.873893    659.754400       12.278296        0.850364   \n",
       "min        0.000000      0.000000     1950.000000        1.384210   \n",
       "25%       25.000000     30.000000     1998.000000        5.829585   \n",
       "50%       45.000000     45.000000     2007.000000        6.392965   \n",
       "75%       90.000000     90.000000     2012.000000        6.942675   \n",
       "max    60000.000000  60000.000000     2016.000000        9.003920   \n",
       "\n",
       "        users_rated  \n",
       "count  10532.000000  \n",
       "mean     870.081466  \n",
       "std     2880.214998  \n",
       "min       50.000000  \n",
       "25%       85.000000  \n",
       "50%      176.000000  \n",
       "75%      518.000000  \n",
       "max    67655.000000  "
      ]
     },
     "execution_count": 7,
     "metadata": {},
     "output_type": "execute_result"
    }
   ],
   "source": [
    "df.describe()"
   ]
  },
  {
   "cell_type": "code",
   "execution_count": 8,
   "id": "f1861e9c",
   "metadata": {},
   "outputs": [
    {
     "data": {
      "text/plain": [
       "game_id               0\n",
       "description           0\n",
       "image                 1\n",
       "max_players           0\n",
       "max_playtime          0\n",
       "min_age               0\n",
       "min_players           0\n",
       "min_playtime          0\n",
       "name                  0\n",
       "playing_time          0\n",
       "thumbnail             1\n",
       "year_published        0\n",
       "artist             2773\n",
       "category             94\n",
       "compilation       10122\n",
       "designer            126\n",
       "expansion          7780\n",
       "family             2808\n",
       "mechanic            950\n",
       "publisher             3\n",
       "average_rating        0\n",
       "users_rated           0\n",
       "dtype: int64"
      ]
     },
     "execution_count": 8,
     "metadata": {},
     "output_type": "execute_result"
    }
   ],
   "source": [
    "df.isnull().sum()"
   ]
  },
  {
   "cell_type": "markdown",
   "id": "92016ca8",
   "metadata": {},
   "source": []
  },
  {
   "cell_type": "code",
   "execution_count": 9,
   "id": "6899036d",
   "metadata": {},
   "outputs": [
    {
     "data": {
      "text/plain": [
       "Index(['game_id', 'description', 'image', 'max_players', 'max_playtime',\n",
       "       'min_age', 'min_players', 'min_playtime', 'name', 'playing_time',\n",
       "       'thumbnail', 'year_published', 'artist', 'category', 'compilation',\n",
       "       'designer', 'expansion', 'family', 'mechanic', 'publisher',\n",
       "       'average_rating', 'users_rated'],\n",
       "      dtype='object')"
      ]
     },
     "execution_count": 9,
     "metadata": {},
     "output_type": "execute_result"
    }
   ],
   "source": [
    "df.columns"
   ]
  },
  {
   "cell_type": "markdown",
   "id": "1163d3c3",
   "metadata": {},
   "source": [
    "# Exploring the Top 5 average rated games."
   ]
  },
  {
   "cell_type": "code",
   "execution_count": 10,
   "id": "35f9328c",
   "metadata": {},
   "outputs": [],
   "source": [
    "import matplotlib.pyplot as plt\n",
    "import seaborn as sns"
   ]
  },
  {
   "cell_type": "code",
   "execution_count": 11,
   "id": "26855acf",
   "metadata": {},
   "outputs": [],
   "source": [
    "avg_rating = df[[\"name\",\"average_rating\"]].sort_values(by=\"average_rating\", ascending=False).head(5)"
   ]
  },
  {
   "cell_type": "code",
   "execution_count": 12,
   "id": "dde05f3d",
   "metadata": {},
   "outputs": [
    {
     "data": {
      "text/html": [
       "<div>\n",
       "<style scoped>\n",
       "    .dataframe tbody tr th:only-of-type {\n",
       "        vertical-align: middle;\n",
       "    }\n",
       "\n",
       "    .dataframe tbody tr th {\n",
       "        vertical-align: top;\n",
       "    }\n",
       "\n",
       "    .dataframe thead th {\n",
       "        text-align: right;\n",
       "    }\n",
       "</style>\n",
       "<table border=\"1\" class=\"dataframe\">\n",
       "  <thead>\n",
       "    <tr style=\"text-align: right;\">\n",
       "      <th></th>\n",
       "      <th>name</th>\n",
       "      <th>average_rating</th>\n",
       "    </tr>\n",
       "  </thead>\n",
       "  <tbody>\n",
       "    <tr>\n",
       "      <th>8348</th>\n",
       "      <td>Small World Designer Edition</td>\n",
       "      <td>9.00392</td>\n",
       "    </tr>\n",
       "    <tr>\n",
       "      <th>6392</th>\n",
       "      <td>Kingdom Death: Monster</td>\n",
       "      <td>8.93184</td>\n",
       "    </tr>\n",
       "    <tr>\n",
       "      <th>9964</th>\n",
       "      <td>Terra Mystica: Big Box</td>\n",
       "      <td>8.84862</td>\n",
       "    </tr>\n",
       "    <tr>\n",
       "      <th>8526</th>\n",
       "      <td>Last Chance for Victory</td>\n",
       "      <td>8.84603</td>\n",
       "    </tr>\n",
       "    <tr>\n",
       "      <th>9675</th>\n",
       "      <td>The Greatest Day: Sword, Juno, and Gold Beaches</td>\n",
       "      <td>8.83081</td>\n",
       "    </tr>\n",
       "  </tbody>\n",
       "</table>\n",
       "</div>"
      ],
      "text/plain": [
       "                                                 name  average_rating\n",
       "8348                     Small World Designer Edition         9.00392\n",
       "6392                           Kingdom Death: Monster         8.93184\n",
       "9964                           Terra Mystica: Big Box         8.84862\n",
       "8526                          Last Chance for Victory         8.84603\n",
       "9675  The Greatest Day: Sword, Juno, and Gold Beaches         8.83081"
      ]
     },
     "execution_count": 12,
     "metadata": {},
     "output_type": "execute_result"
    }
   ],
   "source": [
    "avg_rating"
   ]
  },
  {
   "cell_type": "code",
   "execution_count": 13,
   "id": "e650c75d",
   "metadata": {},
   "outputs": [],
   "source": [
    "#seabornstyle\n",
    "sns.set(style=\"whitegrid\", context= \"notebook\", font_scale=0.7)"
   ]
  },
  {
   "cell_type": "code",
   "execution_count": 14,
   "id": "debafb8a",
   "metadata": {},
   "outputs": [
    {
     "data": {
      "image/png": "[encoded data removed]",
      "text/plain": [
       "<Figure size 1000x400 with 1 Axes>"
      ]
     },
     "metadata": {},
     "output_type": "display_data"
    }
   ],
   "source": [
    "#barplot\n",
    "plt.figure(figsize=(10,4))\n",
    "ax = sns.barplot(x=\"average_rating\", y= \"name\", data=avg_rating, orient=\"h\")\n",
    "#labeling\n",
    "plt.xlabel(\"Average_rating\")\n",
    "plt.ylabel(\"Name\")\n",
    "plt.title(\"Top 5 average rated Games.\");\n",
    "\n",
    "#adding more details to the graphics as seen in class week 4\n",
    "for p in ax.patches:\n",
    "    ax.annotate(f'{p.get_width():.2f}', (p.get_width(),p.get_y()+ p.get_height() / 2), ha='left', va='center')\n",
    "    plt.tight_layout()\n",
    "    #plt.show()"
   ]
  },
  {
   "cell_type": "markdown",
   "id": "00541bc2",
   "metadata": {},
   "source": [
    "Above graphic we can see that the Game \"Small world Desinger edition\" is the higher average rated game with a beautifull 9pts. Others games in top 5 are also well ranked example second and third with 8.83.\n",
    "A bar horizontal blot was to show clearly apresentation how the ratings are distributed with all the diferents games on ranking, that way been able to show the values on that datset."
   ]
  },
  {
   "cell_type": "markdown",
   "id": "a60d0ba9",
   "metadata": {},
   "source": [
    "# Correlation between the \"user_rated\" and \"max_playtime\"?\n",
    "## could that impact in the final results?"
   ]
  },
  {
   "cell_type": "code",
   "execution_count": 15,
   "id": "a898c90a",
   "metadata": {},
   "outputs": [],
   "source": [
    "df_correlation = df[[\"users_rated\", \"max_playtime\"]]"
   ]
  },
  {
   "cell_type": "code",
   "execution_count": 16,
   "id": "6dbf1f36",
   "metadata": {},
   "outputs": [
    {
     "data": {
      "text/html": [
       "<div>\n",
       "<style scoped>\n",
       "    .dataframe tbody tr th:only-of-type {\n",
       "        vertical-align: middle;\n",
       "    }\n",
       "\n",
       "    .dataframe tbody tr th {\n",
       "        vertical-align: top;\n",
       "    }\n",
       "\n",
       "    .dataframe thead th {\n",
       "        text-align: right;\n",
       "    }\n",
       "</style>\n",
       "<table border=\"1\" class=\"dataframe\">\n",
       "  <thead>\n",
       "    <tr style=\"text-align: right;\">\n",
       "      <th></th>\n",
       "      <th>users_rated</th>\n",
       "      <th>max_playtime</th>\n",
       "    </tr>\n",
       "  </thead>\n",
       "  <tbody>\n",
       "    <tr>\n",
       "      <th>0</th>\n",
       "      <td>4498</td>\n",
       "      <td>240</td>\n",
       "    </tr>\n",
       "    <tr>\n",
       "      <th>1</th>\n",
       "      <td>478</td>\n",
       "      <td>30</td>\n",
       "    </tr>\n",
       "    <tr>\n",
       "      <th>2</th>\n",
       "      <td>12019</td>\n",
       "      <td>60</td>\n",
       "    </tr>\n",
       "    <tr>\n",
       "      <th>3</th>\n",
       "      <td>314</td>\n",
       "      <td>60</td>\n",
       "    </tr>\n",
       "    <tr>\n",
       "      <th>4</th>\n",
       "      <td>15195</td>\n",
       "      <td>90</td>\n",
       "    </tr>\n",
       "  </tbody>\n",
       "</table>\n",
       "</div>"
      ],
      "text/plain": [
       "   users_rated  max_playtime\n",
       "0         4498           240\n",
       "1          478            30\n",
       "2        12019            60\n",
       "3          314            60\n",
       "4        15195            90"
      ]
     },
     "execution_count": 16,
     "metadata": {},
     "output_type": "execute_result"
    }
   ],
   "source": [
    "df_correlation.head()"
   ]
  },
  {
   "cell_type": "code",
   "execution_count": 17,
   "id": "160bbcfc",
   "metadata": {},
   "outputs": [
    {
     "data": {
      "image/png": "[encoded data removed]",
      "text/plain": [
       "<Figure size 600x400 with 1 Axes>"
      ]
     },
     "metadata": {},
     "output_type": "display_data"
    }
   ],
   "source": [
    "#same style from beforehand\n",
    "sns.set(style=\"whitegrid\", context=\"notebook\", font_scale=0.8)\n",
    "plt.figure(figsize= (6, 4))\n",
    "sns.scatterplot(x = 'max_playtime', y='users_rated',data = df_correlation);\n",
    "#labeling\n",
    "#labeling\n",
    "plt.xlabel(\"Users Rated\")\n",
    "plt.ylabel(\"Max Playtime\")\n",
    "plt.title(\"Relation between max playtime and Users Rated\");\n",
    "\n",
    "#adding more details to the graphics as seen in class week 4\n",
    "for p in ax.patches:\n",
    "    ax.annotate(f'{p.get_width():.2f}', (p.get_width(),p.get_y()+ p.get_height() / 2), ha='left', va='center')\n",
    "    plt.tight_layout()\n",
    "    #plt.show()\n"
   ]
  },
  {
   "cell_type": "markdown",
   "id": "2726945a",
   "metadata": {},
   "source": [
    "performing a Scatter Plot we were abble to see the correlation between the two variables.\n",
    "Using that tool we can clearly see a vertical linear relation, mainly where max playtime information is showed, scatterplot give usa powerfull instrumment to visually see individuals points, allowing us for expploration of underlying patterns with the dataset, reconizing the inportance of precision in our analysis we  conducted a statical test fro correlation.\n",
    "the test was between the numbe of users whose rated the game and game maximum time played, proving a quantitative examination."
   ]
  },
  {
   "cell_type": "code",
   "execution_count": 18,
   "id": "6ea2f8ae",
   "metadata": {},
   "outputs": [],
   "source": [
    "from scipy.stats import pearsonr"
   ]
  },
  {
   "cell_type": "code",
   "execution_count": 19,
   "id": "d60fcd2d",
   "metadata": {},
   "outputs": [
    {
     "data": {
      "text/html": [
       "<div>\n",
       "<style scoped>\n",
       "    .dataframe tbody tr th:only-of-type {\n",
       "        vertical-align: middle;\n",
       "    }\n",
       "\n",
       "    .dataframe tbody tr th {\n",
       "        vertical-align: top;\n",
       "    }\n",
       "\n",
       "    .dataframe thead th {\n",
       "        text-align: right;\n",
       "    }\n",
       "</style>\n",
       "<table border=\"1\" class=\"dataframe\">\n",
       "  <thead>\n",
       "    <tr style=\"text-align: right;\">\n",
       "      <th></th>\n",
       "      <th>Variable 1</th>\n",
       "      <th>Variable 2</th>\n",
       "      <th>Pearson Correlation Coefficient</th>\n",
       "      <th>P-Value</th>\n",
       "    </tr>\n",
       "  </thead>\n",
       "  <tbody>\n",
       "    <tr>\n",
       "      <th>0</th>\n",
       "      <td>users_rated</td>\n",
       "      <td>max_playtime</td>\n",
       "      <td>-0.004342</td>\n",
       "      <td>0.655949</td>\n",
       "    </tr>\n",
       "  </tbody>\n",
       "</table>\n",
       "</div>"
      ],
      "text/plain": [
       "    Variable 1    Variable 2  Pearson Correlation Coefficient   P-Value\n",
       "0  users_rated  max_playtime                        -0.004342  0.655949"
      ]
     },
     "execution_count": 19,
     "metadata": {},
     "output_type": "execute_result"
    }
   ],
   "source": [
    "# Calculate Pearson's correlation coefficient and p-value\n",
    "correlation_coefficient, p_value = pearsonr(df_correlation['users_rated'], df_correlation['max_playtime'])\n",
    "\n",
    "# Create a DataFrame\n",
    "data = {\n",
    "    'Variable 1': ['users_rated'],\n",
    "    'Variable 2': ['max_playtime'],\n",
    "    'Pearson Correlation Coefficient': [correlation_coefficient],  # Update the column name\n",
    "    'P-Value': [p_value]\n",
    "}\n",
    "\n",
    "df_correlation = pd.DataFrame(data)\n",
    "\n",
    "# Display the DataFrame\n",
    "df_correlation\n"
   ]
  },
  {
   "cell_type": "markdown",
   "id": "721e94a0",
   "metadata": {},
   "source": [
    "The relation between the numbers of users that rated a specific game and the maximum playtime for a specific game\n",
    "\n",
    "in that case was chosen the pearson correlation coefficient to quantitativelyexamine the relationship between two continues variables: the numbers of users who evaluated a specific game and the maximum playtime allowed for that game. The choice of pearson correlation was motivated by the continuos nature of these variables and the observed vertical linear relation seen in the graphic before, sugesting a potential linear association between them.\n",
    "\n",
    "To evaluate this association was conducted a hypothesis test with a significance level set as 0.05, was formulated the null and alternative hypothesis as:\n",
    "\n",
    "H0:The correlation between the maximum playtime of a game and the number of users who rated different from 0\n",
    "H1:The correlation between the maximum playtime of a game and the number of users who rated not different from 0\n",
    "\n",
    "Reading the table above we got p-value of 0.655949 which exceeded our chosen siginificance level of0.05, we do not have anough points to reject the null hypothesis,Was conclued the correlation between them is not siginificant, the test shows within the scope of this test and at 0.05 siginificance level, the numbers of users who evaluiated a game is not siginificantly correlated with the maximum playtime os the game"
   ]
  },
  {
   "cell_type": "markdown",
   "id": "c5b01f3b",
   "metadata": {},
   "source": [
    "# What is the distribution of game categories? "
   ]
  },
  {
   "cell_type": "code",
   "execution_count": 20,
   "id": "a25c5c73",
   "metadata": {},
   "outputs": [],
   "source": [
    "value_counts_df = df['category'].value_counts().reset_index()\n",
    "value_counts_df.columns = ['category', 'count']\n",
    "value_counts_df = value_counts_df.sort_values(by='count', ascending=False)\n",
    "total_count = value_counts_df['count'].sum()\n",
    "value_counts_df['Percentage'] = (value_counts_df['count'] / total_count) * 100"
   ]
  },
  {
   "cell_type": "code",
   "execution_count": 21,
   "id": "ebb1742e",
   "metadata": {},
   "outputs": [
    {
     "data": {
      "text/html": [
       "<div>\n",
       "<style scoped>\n",
       "    .dataframe tbody tr th:only-of-type {\n",
       "        vertical-align: middle;\n",
       "    }\n",
       "\n",
       "    .dataframe tbody tr th {\n",
       "        vertical-align: top;\n",
       "    }\n",
       "\n",
       "    .dataframe thead th {\n",
       "        text-align: right;\n",
       "    }\n",
       "</style>\n",
       "<table border=\"1\" class=\"dataframe\">\n",
       "  <thead>\n",
       "    <tr style=\"text-align: right;\">\n",
       "      <th></th>\n",
       "      <th>category</th>\n",
       "      <th>count</th>\n",
       "      <th>Percentage</th>\n",
       "    </tr>\n",
       "  </thead>\n",
       "  <tbody>\n",
       "    <tr>\n",
       "      <th>0</th>\n",
       "      <td>Wargame,World War II</td>\n",
       "      <td>449</td>\n",
       "      <td>4.301590</td>\n",
       "    </tr>\n",
       "    <tr>\n",
       "      <th>1</th>\n",
       "      <td>Card Game</td>\n",
       "      <td>438</td>\n",
       "      <td>4.196206</td>\n",
       "    </tr>\n",
       "    <tr>\n",
       "      <th>2</th>\n",
       "      <td>Abstract Strategy</td>\n",
       "      <td>284</td>\n",
       "      <td>2.720828</td>\n",
       "    </tr>\n",
       "    <tr>\n",
       "      <th>3</th>\n",
       "      <td>Napoleonic,Wargame</td>\n",
       "      <td>124</td>\n",
       "      <td>1.187967</td>\n",
       "    </tr>\n",
       "    <tr>\n",
       "      <th>4</th>\n",
       "      <td>Economic</td>\n",
       "      <td>116</td>\n",
       "      <td>1.111324</td>\n",
       "    </tr>\n",
       "    <tr>\n",
       "      <th>5</th>\n",
       "      <td>Card Game,Fantasy</td>\n",
       "      <td>110</td>\n",
       "      <td>1.053842</td>\n",
       "    </tr>\n",
       "    <tr>\n",
       "      <th>6</th>\n",
       "      <td>Dice</td>\n",
       "      <td>107</td>\n",
       "      <td>1.025101</td>\n",
       "    </tr>\n",
       "    <tr>\n",
       "      <th>7</th>\n",
       "      <td>American Civil War,Wargame</td>\n",
       "      <td>97</td>\n",
       "      <td>0.929297</td>\n",
       "    </tr>\n",
       "    <tr>\n",
       "      <th>8</th>\n",
       "      <td>Modern Warfare,Wargame</td>\n",
       "      <td>89</td>\n",
       "      <td>0.852654</td>\n",
       "    </tr>\n",
       "    <tr>\n",
       "      <th>9</th>\n",
       "      <td>Party Game</td>\n",
       "      <td>77</td>\n",
       "      <td>0.737689</td>\n",
       "    </tr>\n",
       "  </tbody>\n",
       "</table>\n",
       "</div>"
      ],
      "text/plain": [
       "                     category  count  Percentage\n",
       "0        Wargame,World War II    449    4.301590\n",
       "1                   Card Game    438    4.196206\n",
       "2           Abstract Strategy    284    2.720828\n",
       "3          Napoleonic,Wargame    124    1.187967\n",
       "4                    Economic    116    1.111324\n",
       "5           Card Game,Fantasy    110    1.053842\n",
       "6                        Dice    107    1.025101\n",
       "7  American Civil War,Wargame     97    0.929297\n",
       "8      Modern Warfare,Wargame     89    0.852654\n",
       "9                  Party Game     77    0.737689"
      ]
     },
     "execution_count": 21,
     "metadata": {},
     "output_type": "execute_result"
    }
   ],
   "source": [
    "value_counts_df.head(10)"
   ]
  },
  {
   "cell_type": "code",
   "execution_count": 22,
   "id": "25784113",
   "metadata": {},
   "outputs": [],
   "source": [
    "import matplotlib.pyplot as plt\n",
    "import seaborn as sns"
   ]
  },
  {
   "cell_type": "markdown",
   "id": "5ebc1b75",
   "metadata": {},
   "source": [
    "# picking only top 10 of the categories"
   ]
  },
  {
   "cell_type": "code",
   "execution_count": 23,
   "id": "0f2d3839",
   "metadata": {},
   "outputs": [
    {
     "data": {
      "image/png": "[encoded data removed]",
      "text/plain": [
       "<Figure size 800x800 with 1 Axes>"
      ]
     },
     "metadata": {},
     "output_type": "display_data"
    }
   ],
   "source": [
    "top_10_categories = value_counts_df.head(10)\n",
    "#pie chart is the easyiest way to see it\n",
    "plt.figure(figsize=(8, 8))\n",
    "plt.pie(top_10_categories['count'], labels = top_10_categories['category'], autopct= '%1.1f%%', startangle= 140)\n",
    "plt.title('Top 10 categories')\n",
    "plt.axis('equal')\n",
    "plt.show()"
   ]
  },
  {
   "cell_type": "markdown",
   "id": "05a7fcc9",
   "metadata": {},
   "source": [
    "The above show the top 10 categories between the whole Dataset which was larger.\n",
    "\n",
    "Those top 10 provide a valuable ideia for a sale strategy organisation as they represent the most popular games  in terms of engagement.\n",
    "The categories\"Card wargame\" and \"World war 2\" are the most popular been almost 50% of the total, following by the others where \"Party Games\" is the one which lower porcentage, only based on the top 10, no the whole dataset, once was choseen only 10 of the total piechart was fully capable for a good visualisation."
   ]
  },
  {
   "cell_type": "markdown",
   "id": "82367d30",
   "metadata": {},
   "source": [
    "# \tDo older games (1992 and earlier) have a higher MEDIAN “average rating” than newer games (after 1992)? "
   ]
  },
  {
   "cell_type": "code",
   "execution_count": 24,
   "id": "54ffedbd",
   "metadata": {},
   "outputs": [],
   "source": [
    "df_comparison= df[['name', 'year_published', 'average_rating']]"
   ]
  },
  {
   "cell_type": "code",
   "execution_count": 25,
   "id": "fc634333",
   "metadata": {},
   "outputs": [
    {
     "data": {
      "text/html": [
       "<div>\n",
       "<style scoped>\n",
       "    .dataframe tbody tr th:only-of-type {\n",
       "        vertical-align: middle;\n",
       "    }\n",
       "\n",
       "    .dataframe tbody tr th {\n",
       "        vertical-align: top;\n",
       "    }\n",
       "\n",
       "    .dataframe thead th {\n",
       "        text-align: right;\n",
       "    }\n",
       "</style>\n",
       "<table border=\"1\" class=\"dataframe\">\n",
       "  <thead>\n",
       "    <tr style=\"text-align: right;\">\n",
       "      <th></th>\n",
       "      <th>name</th>\n",
       "      <th>year_published</th>\n",
       "      <th>average_rating</th>\n",
       "    </tr>\n",
       "  </thead>\n",
       "  <tbody>\n",
       "    <tr>\n",
       "      <th>0</th>\n",
       "      <td>Die Macher</td>\n",
       "      <td>1986</td>\n",
       "      <td>7.66508</td>\n",
       "    </tr>\n",
       "    <tr>\n",
       "      <th>1</th>\n",
       "      <td>Dragonmaster</td>\n",
       "      <td>1981</td>\n",
       "      <td>6.60815</td>\n",
       "    </tr>\n",
       "    <tr>\n",
       "      <th>2</th>\n",
       "      <td>Samurai</td>\n",
       "      <td>1998</td>\n",
       "      <td>7.44119</td>\n",
       "    </tr>\n",
       "    <tr>\n",
       "      <th>3</th>\n",
       "      <td>Tal der Könige</td>\n",
       "      <td>1992</td>\n",
       "      <td>6.60675</td>\n",
       "    </tr>\n",
       "    <tr>\n",
       "      <th>4</th>\n",
       "      <td>Acquire</td>\n",
       "      <td>1964</td>\n",
       "      <td>7.35830</td>\n",
       "    </tr>\n",
       "  </tbody>\n",
       "</table>\n",
       "</div>"
      ],
      "text/plain": [
       "             name  year_published  average_rating\n",
       "0      Die Macher            1986         7.66508\n",
       "1    Dragonmaster            1981         6.60815\n",
       "2         Samurai            1998         7.44119\n",
       "3  Tal der Könige            1992         6.60675\n",
       "4         Acquire            1964         7.35830"
      ]
     },
     "execution_count": 25,
     "metadata": {},
     "output_type": "execute_result"
    }
   ],
   "source": [
    "df_comparison.head()"
   ]
  },
  {
   "cell_type": "markdown",
   "id": "b35e5d03",
   "metadata": {},
   "source": [
    "older Games(1992 and before) have a higher MEDIAN \"average rating\" than newer games afterm1992?"
   ]
  },
  {
   "cell_type": "code",
   "execution_count": 26,
   "id": "17b08033",
   "metadata": {},
   "outputs": [
    {
     "name": "stderr",
     "output_type": "stream",
     "text": [
      "C:\\Users\\dansa\\AppData\\Local\\Temp\\ipykernel_10352\\1238132925.py:2: SettingWithCopyWarning: \n",
      "A value is trying to be set on a copy of a slice from a DataFrame.\n",
      "Try using .loc[row_indexer,col_indexer] = value instead\n",
      "\n",
      "See the caveats in the documentation: https://pandas.pydata.org/pandas-docs/stable/user_guide/indexing.html#returning-a-view-versus-a-copy\n",
      "  df_comparison.loc[df_comparison['year_published'] <= 1992, 'category'] = 'Older Games'\n"
     ]
    }
   ],
   "source": [
    "# Creating a new column 'category' based on 'year_published' \n",
    "df_comparison.loc[df_comparison['year_published'] <= 1992, 'category'] = 'Older Games'\n",
    "df_comparison.loc[df_comparison['year_published'] > 1992, 'category'] = 'Newer Games'"
   ]
  },
  {
   "cell_type": "code",
   "execution_count": 27,
   "id": "8bc7116b",
   "metadata": {},
   "outputs": [
    {
     "data": {
      "image/png": "[encoded data removed]",
      "text/plain": [
       "<Figure size 800x600 with 1 Axes>"
      ]
     },
     "metadata": {},
     "output_type": "display_data"
    }
   ],
   "source": [
    "def create_comparison_boxplot(dataframe, x_column, y_column, title):\n",
    "   \n",
    "    # Set the Seaborn style to mimic The Economist's style\n",
    "    sns.set(style=\"whitegrid\")\n",
    "\n",
    "    #Creating a boxplot\n",
    "    plt.figure(figsize=(8, 6))\n",
    "    ax = sns.boxplot(x=x_column, y=y_column, data=dataframe)\n",
    "    sns.despine(right=True, top=True)\n",
    "\n",
    "    #Adding labels and title\n",
    "    plt.xlabel(x_column.capitalize())  \n",
    "    plt.ylabel(y_column.capitalize())  \n",
    "    plt.title(title)\n",
    "    plt.show()\n",
    "create_comparison_boxplot(df_comparison, 'category', 'average_rating', 'Figure 4: Comparison of Average Ratings: Older vs. Newer Games')"
   ]
  },
  {
   "cell_type": "markdown",
   "id": "e2167fe0",
   "metadata": {},
   "source": [
    "the above provides a detailed comparison of the average ratings between two distinct sets of games: the older games (published prior to 1992) and the newer games (published in 1992 and after 1992). To explore  the difference present in these two groups, we used boxplots. These boxplots offer a clear  distribution of ratings for each group, evaluating the difference in their respective medians (represented by the line within each box).\n",
    "The boxplots clearly show a slight difference in the median ratings between the two groups, raising the initial possibility of a distinction in player preferences.\n",
    "In order to confirm this observed difference and draw statistically significant conclusions regarding the medians of these two groups, we carried out a quantitative statistical hypothesis."
   ]
  },
  {
   "cell_type": "code",
   "execution_count": 28,
   "id": "dbae3a50",
   "metadata": {},
   "outputs": [
    {
     "data": {
      "text/html": [
       "<div>\n",
       "<style scoped>\n",
       "    .dataframe tbody tr th:only-of-type {\n",
       "        vertical-align: middle;\n",
       "    }\n",
       "\n",
       "    .dataframe tbody tr th {\n",
       "        vertical-align: top;\n",
       "    }\n",
       "\n",
       "    .dataframe thead th {\n",
       "        text-align: right;\n",
       "    }\n",
       "</style>\n",
       "<table border=\"1\" class=\"dataframe\">\n",
       "  <thead>\n",
       "    <tr style=\"text-align: right;\">\n",
       "      <th></th>\n",
       "      <th>name</th>\n",
       "      <th>year_published</th>\n",
       "      <th>average_rating</th>\n",
       "      <th>category</th>\n",
       "    </tr>\n",
       "  </thead>\n",
       "  <tbody>\n",
       "    <tr>\n",
       "      <th>0</th>\n",
       "      <td>Die Macher</td>\n",
       "      <td>1986</td>\n",
       "      <td>7.66508</td>\n",
       "      <td>Older Games</td>\n",
       "    </tr>\n",
       "    <tr>\n",
       "      <th>1</th>\n",
       "      <td>Dragonmaster</td>\n",
       "      <td>1981</td>\n",
       "      <td>6.60815</td>\n",
       "      <td>Older Games</td>\n",
       "    </tr>\n",
       "    <tr>\n",
       "      <th>2</th>\n",
       "      <td>Samurai</td>\n",
       "      <td>1998</td>\n",
       "      <td>7.44119</td>\n",
       "      <td>Newer Games</td>\n",
       "    </tr>\n",
       "    <tr>\n",
       "      <th>3</th>\n",
       "      <td>Tal der Könige</td>\n",
       "      <td>1992</td>\n",
       "      <td>6.60675</td>\n",
       "      <td>Older Games</td>\n",
       "    </tr>\n",
       "    <tr>\n",
       "      <th>4</th>\n",
       "      <td>Acquire</td>\n",
       "      <td>1964</td>\n",
       "      <td>7.35830</td>\n",
       "      <td>Older Games</td>\n",
       "    </tr>\n",
       "  </tbody>\n",
       "</table>\n",
       "</div>"
      ],
      "text/plain": [
       "             name  year_published  average_rating     category\n",
       "0      Die Macher            1986         7.66508  Older Games\n",
       "1    Dragonmaster            1981         6.60815  Older Games\n",
       "2         Samurai            1998         7.44119  Newer Games\n",
       "3  Tal der Könige            1992         6.60675  Older Games\n",
       "4         Acquire            1964         7.35830  Older Games"
      ]
     },
     "execution_count": 28,
     "metadata": {},
     "output_type": "execute_result"
    }
   ],
   "source": [
    "df_comparison.head()"
   ]
  },
  {
   "cell_type": "code",
   "execution_count": 29,
   "id": "e282dcb5",
   "metadata": {},
   "outputs": [],
   "source": [
    "import scipy.stats as stats\n",
    "import numpy as np\n",
    "import pandas as pd"
   ]
  },
  {
   "cell_type": "code",
   "execution_count": 30,
   "id": "7782fde7",
   "metadata": {},
   "outputs": [],
   "source": [
    "# two groups for the Mann-Whitney U test\n",
    "older_games_ratings = df_comparison[df_comparison['category'] == 'Older Games']['average_rating']\n",
    "newer_games_ratings = df_comparison[df_comparison['category'] == 'Newer Games']['average_rating']"
   ]
  },
  {
   "cell_type": "code",
   "execution_count": 31,
   "id": "40f15e1c",
   "metadata": {},
   "outputs": [],
   "source": [
    "# Making the size of the smaller group\n",
    "min_group_size = min(len(older_games_ratings), len(newer_games_ratings))\n",
    "\n",
    "# Subsampling the larger group to have the same size as the smaller group\n",
    "np.random.seed(42)\n",
    "if len(older_games_ratings) > len(newer_games_ratings):\n",
    "    subsample_old = older_games_ratings.sample(n=min_group_size, replace=False)\n",
    "    subsample_new = newer_games_ratings\n",
    "else:\n",
    "    subsample_old = older_games_ratings\n",
    "    subsample_new = newer_games_ratings.sample(n=min_group_size, replace=False)"
   ]
  },
  {
   "cell_type": "code",
   "execution_count": 32,
   "id": "686d86e8",
   "metadata": {},
   "outputs": [],
   "source": [
    "# Mann-Whitney U test\n",
    "u_statistic, p_value = stats.mannwhitneyu(subsample_old, subsample_new, alternative='greater')"
   ]
  },
  {
   "cell_type": "code",
   "execution_count": 33,
   "id": "4c6caf64",
   "metadata": {},
   "outputs": [
    {
     "data": {
      "text/html": [
       "<div>\n",
       "<style scoped>\n",
       "    .dataframe tbody tr th:only-of-type {\n",
       "        vertical-align: middle;\n",
       "    }\n",
       "\n",
       "    .dataframe tbody tr th {\n",
       "        vertical-align: top;\n",
       "    }\n",
       "\n",
       "    .dataframe thead th {\n",
       "        text-align: right;\n",
       "    }\n",
       "</style>\n",
       "<table border=\"1\" class=\"dataframe\">\n",
       "  <thead>\n",
       "    <tr style=\"text-align: right;\">\n",
       "      <th></th>\n",
       "      <th>Category</th>\n",
       "      <th>Sample Size</th>\n",
       "      <th>U Statistic</th>\n",
       "      <th>P-Value</th>\n",
       "    </tr>\n",
       "  </thead>\n",
       "  <tbody>\n",
       "    <tr>\n",
       "      <th>0</th>\n",
       "      <td>Older Games</td>\n",
       "      <td>1934</td>\n",
       "      <td>1332223.5</td>\n",
       "      <td>1.0</td>\n",
       "    </tr>\n",
       "    <tr>\n",
       "      <th>1</th>\n",
       "      <td>Newer Games</td>\n",
       "      <td>1934</td>\n",
       "      <td>NaN</td>\n",
       "      <td>NaN</td>\n",
       "    </tr>\n",
       "  </tbody>\n",
       "</table>\n",
       "</div>"
      ],
      "text/plain": [
       "      Category  Sample Size  U Statistic  P-Value\n",
       "0  Older Games         1934    1332223.5      1.0\n",
       "1  Newer Games         1934          NaN      NaN"
      ]
     },
     "execution_count": 33,
     "metadata": {},
     "output_type": "execute_result"
    }
   ],
   "source": [
    "#summary table\n",
    "results_summary = pd.DataFrame({\n",
    "    'Category': ['Older Games', 'Newer Games'],\n",
    "    'Sample Size': [len(subsample_old), len(subsample_new)],\n",
    "    'U Statistic': [u_statistic, None],\n",
    "    'P-Value': [p_value, None]\n",
    "})\n",
    "results_summary"
   ]
  },
  {
   "cell_type": "markdown",
   "id": "2c1b4cac",
   "metadata": {},
   "source": [
    "\n",
    "After a Mann-Whitney U test to test the following hypotheses:\n",
    "\n",
    "H0: There is no significant difference in the median \"average rating\" between older games (published in 1992 or earlier) and newer games (published after 1992).\n",
    "\n",
    "H1: Older games (published in 1992 or earlier) have a higher median \"average rating\" than newer games (published after 1992).\n",
    "\n",
    "The choice of the Mann-Whitney U test was appropriate for this hypothesis test due to its non-parametric nature, making it robust against distributional assumptions.\n",
    "Due to the disparity in the sizes of the two samples, 1,934 observations in the \"older_games_ratings\" group and 8,598 in the \"newer_games_ratings\" group we did subsampling  which involves taking a smaller sample from newer_games_rAatings, without replacement, to obtain a distribution of test statistics (such as U-statistics) or p-values, This helped in reducing potential for bias in the Mann-Whitney U test results resulting from imbalanced sample sizes, the larger group may have more diverse characteristics, and the smaller group may be less representative. By subsampling, you can make the groups more comparable, potentially reducing the impact of these biases.\n",
    "\n",
    "Based on the Table , the p-value(1.0) exceeded our chosen significance level (0.05). This implies that the data did not provide strong evidence against the null hypothesis. Thus, there is insufficient statistical evidence to conclude that older games (published in 1992 or earlier) have a higher median \"average rating\" than newer games (published after 1992)."
   ]
  },
  {
   "cell_type": "markdown",
   "id": "4d304d3c",
   "metadata": {},
   "source": [
    "# What are the 5 most common “mechanics” in the dataset? "
   ]
  },
  {
   "cell_type": "code",
   "execution_count": 34,
   "id": "1300677c",
   "metadata": {},
   "outputs": [],
   "source": [
    "df_mechanic = df ['mechanic'].value_counts().reset_index()\n",
    "df_mechanic.columns = ['Mechanic', 'Count']"
   ]
  },
  {
   "cell_type": "code",
   "execution_count": 35,
   "id": "2a2c23c7",
   "metadata": {},
   "outputs": [],
   "source": [
    "#reindex the df\n",
    "df_mechanic = df_mechanic.reset_index(drop= True)\n",
    "df_mechanic = df_mechanic.sort_values(by='Count', ascending=False)"
   ]
  },
  {
   "cell_type": "code",
   "execution_count": 36,
   "id": "d6674be1",
   "metadata": {},
   "outputs": [
    {
     "data": {
      "text/html": [
       "<div>\n",
       "<style scoped>\n",
       "    .dataframe tbody tr th:only-of-type {\n",
       "        vertical-align: middle;\n",
       "    }\n",
       "\n",
       "    .dataframe tbody tr th {\n",
       "        vertical-align: top;\n",
       "    }\n",
       "\n",
       "    .dataframe thead th {\n",
       "        text-align: right;\n",
       "    }\n",
       "</style>\n",
       "<table border=\"1\" class=\"dataframe\">\n",
       "  <thead>\n",
       "    <tr style=\"text-align: right;\">\n",
       "      <th></th>\n",
       "      <th>Mechanic</th>\n",
       "      <th>Count</th>\n",
       "    </tr>\n",
       "  </thead>\n",
       "  <tbody>\n",
       "    <tr>\n",
       "      <th>0</th>\n",
       "      <td>Hex-and-Counter</td>\n",
       "      <td>523</td>\n",
       "    </tr>\n",
       "    <tr>\n",
       "      <th>1</th>\n",
       "      <td>Hand Management</td>\n",
       "      <td>297</td>\n",
       "    </tr>\n",
       "    <tr>\n",
       "      <th>2</th>\n",
       "      <td>Dice Rolling</td>\n",
       "      <td>222</td>\n",
       "    </tr>\n",
       "    <tr>\n",
       "      <th>3</th>\n",
       "      <td>Roll / Spin and Move</td>\n",
       "      <td>199</td>\n",
       "    </tr>\n",
       "    <tr>\n",
       "      <th>4</th>\n",
       "      <td>Tile Placement</td>\n",
       "      <td>170</td>\n",
       "    </tr>\n",
       "  </tbody>\n",
       "</table>\n",
       "</div>"
      ],
      "text/plain": [
       "               Mechanic  Count\n",
       "0       Hex-and-Counter    523\n",
       "1       Hand Management    297\n",
       "2          Dice Rolling    222\n",
       "3  Roll / Spin and Move    199\n",
       "4        Tile Placement    170"
      ]
     },
     "execution_count": 36,
     "metadata": {},
     "output_type": "execute_result"
    }
   ],
   "source": [
    "df_mechanic.head()"
   ]
  },
  {
   "cell_type": "markdown",
   "id": "86994014",
   "metadata": {},
   "source": [
    "# Ploting the top 5"
   ]
  },
  {
   "cell_type": "code",
   "execution_count": 37,
   "id": "cfe38c63",
   "metadata": {},
   "outputs": [],
   "source": [
    "import seaborn as sns\n",
    "import matplotlib.pyplot as plt"
   ]
  },
  {
   "cell_type": "code",
   "execution_count": 38,
   "id": "3989e889",
   "metadata": {},
   "outputs": [],
   "source": [
    "top_5_mechanics = df_mechanic.head(5)"
   ]
  },
  {
   "cell_type": "code",
   "execution_count": 39,
   "id": "3903e718",
   "metadata": {},
   "outputs": [
    {
     "data": {
      "image/png": "[encoded data removed]",
      "text/plain": [
       "<Figure size 600x400 with 1 Axes>"
      ]
     },
     "metadata": {},
     "output_type": "display_data"
    }
   ],
   "source": [
    "sns.set(style=\"whitegrid\")\n",
    "\n",
    "# Creating a bar plot\n",
    "plt.figure(figsize=(6, 4))\n",
    "ax = sns.barplot(x='Count', y='Mechanic', data=top_5_mechanics, palette='Set2')\n",
    "\n",
    "# Add labels,title and values to the bar\n",
    "plt.xlabel('Count')\n",
    "plt.ylabel('Mechanic')\n",
    "plt.title('Figure 5: Top 5 Mechanics in Board Games')\n",
    "for p in ax.patches:\n",
    "    ax.annotate(f'{int(p.get_width())}', (p.get_width() + 0.1, p.get_y() + p.get_height() / 2), ha='left', va='center')\n",
    "plt.show()\n"
   ]
  },
  {
   "cell_type": "markdown",
   "id": "db68a98a",
   "metadata": {},
   "source": [
    "illustrating the distribution of game mechanics, with Hex-and-Counter ranking as the most frequently employed mechanic, appearing in 523 times. In contrast, Hand Management comes in second with a considerable gap at 297 occurrences. The top 5 list concludes with the Tile Placement mechanic, featured in 170 instances.\n",
    "The selection of a horizontal bar chart, set against a whitegrid backdrop, was chosen for its ability to convey this information with visual clarity and aesthetic appeal, facilitating easy understanding."
   ]
  },
  {
   "cell_type": "markdown",
   "id": "7f572cae",
   "metadata": {},
   "source": [
    "# Is there greater diference in the median of the numbers of users that rated newer games after 1999 and before that year?"
   ]
  },
  {
   "cell_type": "markdown",
   "id": "1e277e1c",
   "metadata": {},
   "source": [
    "In order to improve on our gaming sales strategy, we recognized the importance of measuring the willingness of gamers to express their sentiments in both the 21st and 20th centuries. \n",
    "This comparison serves as a valuable indicator to measure whether advancements in sentiment-sharing platforms over time have influenced gamers' engagement, Specifically, it helps us determine whether there is a compelling reason for enhancing the platforms used by gamers to voice their sentiments in the 21st century, as compared to those in the 20th century.\n",
    "Our decision-making process, including potential platform scaling initiatives to accommodate increased sentiment sharing, depends on a key metric: the comparison of medians between the two time periods, The use of median values is preferred in this context due to their robustness against the influence of outliers, ensuring that our analysis reflects the central tendencies of gamers' sentiments accurately."
   ]
  },
  {
   "cell_type": "code",
   "execution_count": 40,
   "id": "4ff94bd1",
   "metadata": {},
   "outputs": [],
   "source": [
    "df_user_rating = df[['name', 'year_published', 'users_rated']]"
   ]
  },
  {
   "cell_type": "code",
   "execution_count": 41,
   "id": "f112cc94",
   "metadata": {},
   "outputs": [],
   "source": [
    "import seaborn as sns\n",
    "import matplotlib.pyplot as plt"
   ]
  },
  {
   "cell_type": "code",
   "execution_count": 42,
   "id": "fb1f9e05",
   "metadata": {},
   "outputs": [
    {
     "name": "stderr",
     "output_type": "stream",
     "text": [
      "C:\\Users\\dansa\\AppData\\Local\\Temp\\ipykernel_10352\\1099949560.py:2: SettingWithCopyWarning: \n",
      "A value is trying to be set on a copy of a slice from a DataFrame.\n",
      "Try using .loc[row_indexer,col_indexer] = value instead\n",
      "\n",
      "See the caveats in the documentation: https://pandas.pydata.org/pandas-docs/stable/user_guide/indexing.html#returning-a-view-versus-a-copy\n",
      "  df_user_rating.loc[df_user_rating['year_published'] <= 1999, 'category'] = 'Older Games'\n"
     ]
    }
   ],
   "source": [
    "#Creating a new collumn Category based on year_published\n",
    "df_user_rating.loc[df_user_rating['year_published'] <= 1999, 'category'] = 'Older Games'\n",
    "df_user_rating.loc[df_user_rating['year_published'] > 1999, 'category'] = 'Newer Games'"
   ]
  },
  {
   "cell_type": "code",
   "execution_count": 43,
   "id": "558840fe",
   "metadata": {},
   "outputs": [
    {
     "data": {
      "image/png": "[encoded data removed]",
      "text/plain": [
       "<Figure size 800x600 with 1 Axes>"
      ]
     },
     "metadata": {},
     "output_type": "display_data"
    }
   ],
   "source": [
    "sns.set(style=\"whitegrid\")\n",
    "plt.figure(figsize=(8, 6))\n",
    "ax = sns.boxplot(x= 'category', y= 'users_rated', data=df_user_rating)\n",
    "#removing the top and right spines\n",
    "sns.despine(right=True, top=True)\n",
    "#adding labeling and title\n",
    "plt.xlabel('Category')\n",
    "plt.ylabel('Number of Users that rated')\n",
    "plt.title('Comparison of average ratings: older X Newer Games');\n",
    "plt.ylim(0, 2000);\n",
    "plt.show()"
   ]
  },
  {
   "cell_type": "markdown",
   "id": "3b4cff25",
   "metadata": {},
   "source": [
    "Above shows boxplots used to visualize summary statistics for both older(1999 and before) and newer(after 1999) games, enhancing comparison with distinct color shades, To improve clarity, the number of user ratings was capped at 2000, allowing for better visibility of the medians (represented by the lines within each box).\n",
    "The utilization of various color shades and a whitegrid theme not only improves the aesthetics but also helps in improving overall visibility, Notably, newer games exhibit a slightly higher median in terms of user ratings, To confirm the significance of this difference, a quantitative hypothesis test was employed."
   ]
  },
  {
   "cell_type": "code",
   "execution_count": 44,
   "id": "0b7315c6",
   "metadata": {},
   "outputs": [],
   "source": [
    "import scipy.stats as stats\n",
    "import pandas as pd\n",
    "import numpy as np"
   ]
  },
  {
   "cell_type": "code",
   "execution_count": 45,
   "id": "a640827a",
   "metadata": {},
   "outputs": [],
   "source": [
    "#two groups for the Mann-whitney U test\n",
    "older_games_ratings = df_user_rating[df_user_rating['category'] == 'Older Games']['users_rated']\n",
    "newer_games_ratings = df_user_rating[df_user_rating['category'] == 'Newer Games']['users_rated']"
   ]
  },
  {
   "cell_type": "code",
   "execution_count": 46,
   "id": "1f343e6f",
   "metadata": {},
   "outputs": [],
   "source": [
    "#groupsize\n",
    "min_group_size = min(len(older_games_ratings), len(newer_games_ratings))\n",
    "#tunring into same size\n",
    "np.random.seed(42)\n",
    "if len(older_games_ratings) > len(newer_games_ratings):\n",
    "    subsample_old = older_games_ratings.sample(n=min_group_size, replace=False)\n",
    "    subsample_new = newer_games_ratings\n",
    "else:\n",
    "    subsample_old = older_games_ratings\n",
    "    subsample_new = newer_games_ratings.sample(n=min_group_size, replace=False)"
   ]
  },
  {
   "cell_type": "code",
   "execution_count": 47,
   "id": "33c8c4d1",
   "metadata": {},
   "outputs": [],
   "source": [
    "#Mann-whitney U test\n",
    "u_static, p_value = stats.mannwhitneyu(subsample_old, subsample_new, alternative=\"two-sided\")"
   ]
  },
  {
   "cell_type": "code",
   "execution_count": 48,
   "id": "0174a4c8",
   "metadata": {},
   "outputs": [
    {
     "data": {
      "text/html": [
       "<div>\n",
       "<style scoped>\n",
       "    .dataframe tbody tr th:only-of-type {\n",
       "        vertical-align: middle;\n",
       "    }\n",
       "\n",
       "    .dataframe tbody tr th {\n",
       "        vertical-align: top;\n",
       "    }\n",
       "\n",
       "    .dataframe thead th {\n",
       "        text-align: right;\n",
       "    }\n",
       "</style>\n",
       "<table border=\"1\" class=\"dataframe\">\n",
       "  <thead>\n",
       "    <tr style=\"text-align: right;\">\n",
       "      <th></th>\n",
       "      <th>Category</th>\n",
       "      <th>Sample Size</th>\n",
       "      <th>U Statistic</th>\n",
       "      <th>P-Value</th>\n",
       "    </tr>\n",
       "  </thead>\n",
       "  <tbody>\n",
       "    <tr>\n",
       "      <th>0</th>\n",
       "      <td>Older Games</td>\n",
       "      <td>2980</td>\n",
       "      <td>1332223.5</td>\n",
       "      <td>6.383455e-26</td>\n",
       "    </tr>\n",
       "    <tr>\n",
       "      <th>1</th>\n",
       "      <td>Newer Games</td>\n",
       "      <td>2980</td>\n",
       "      <td>NaN</td>\n",
       "      <td>NaN</td>\n",
       "    </tr>\n",
       "  </tbody>\n",
       "</table>\n",
       "</div>"
      ],
      "text/plain": [
       "      Category  Sample Size  U Statistic       P-Value\n",
       "0  Older Games         2980    1332223.5  6.383455e-26\n",
       "1  Newer Games         2980          NaN           NaN"
      ]
     },
     "execution_count": 48,
     "metadata": {},
     "output_type": "execute_result"
    }
   ],
   "source": [
    "#creating a table and showing results\n",
    "results_summary = pd.DataFrame({\n",
    "    'Category': ['Older Games', 'Newer Games'],\n",
    "    'Sample Size': [len(subsample_old), len(subsample_new)],\n",
    "    'U Statistic': [u_statistic, None],\n",
    "    'P-Value': [p_value, None]})\n",
    "results_summary"
   ]
  },
  {
   "cell_type": "markdown",
   "id": "4ec67c6b",
   "metadata": {},
   "source": [
    "# Results of Mann-whitney u test for game comparision"
   ]
  },
  {
   "cell_type": "markdown",
   "id": "89402c5c",
   "metadata": {},
   "source": [
    "\"The above presents the results of our hypothesis testing, where we examined the following assertions:\n",
    "\n",
    "H0: There is no significant difference in the number of users who rated games before the year 2000 compared to those rated in the years 2000 and beyond.\n",
    "H1: A significant difference exists in the number of users who rated games before 2000 compared to games rated from 2000 onward.\n",
    "Due to challenges posed by uncertain data distribution assumptions, we opted for a non-parametric method, the Mann-Whitney test, to test our hypotheses. Our analysis yielded a p-value of 6.383455e-26, which is less than our chosen level of significance (0.05). As a result, we reject the null hypothesis, suggesting that there is no statistically significant distinction between newer and older games in terms of the number of users who rated them.\"\n",
    "In conclusion, there exists asignificant difference in the median of the number of users that expressed their ratings in 1999 and prior(20th century) compared to 2000 and after(21st century)."
   ]
  },
  {
   "cell_type": "markdown",
   "id": "8f3ec1d7",
   "metadata": {},
   "source": [
    "# References\n",
    "\n",
    "P, B. (2020). Making Plots in Jupyter Notebook Beautiful & More Meaningful. [online] Medium. Available at: https://towardsdatascience.com/making-plots-in-jupyter-notebook-beautiful-more-meaningful-23c8a35c0d5d [Accessed 14 Oct. 2023].\n",
    "\n",
    "Waskom, M. (n.d.). Overview of seaborn plotting functions — seaborn 0.12.0 documentation. [online] seaborn.pydata.org. Available at: https://seaborn.pydata.org/tutorial/function_overview.html [Accessed 12 Oct. 2023].\n",
    "\n",
    "Glen, S. (2022). Correlation coefficient: simple definition, formula, easy steps. [online] Statistics How to. Available at: https://www.statisticshowto.com/probability-and-statistics/correlation-coefficient-formula/ [Accessed 12 Oct. 2023].\n",
    "\n",
    "Statistics Solutions. (n.d.). Mann-Whitney U Test. [online] Available at: https://www.statisticssolutions.com/free-resources/directory-of-statistical-analyses/mann-whitney-u-test/#:~:text=Mann%2DWhitney%20U%20test%20is [Accessed 13 Oct. 2023].\n",
    "\n",
    "https://github.com/DanielFerreirajr/Data-Visualization"
   ]
  },
  {
   "cell_type": "code",
   "execution_count": 3,
   "id": "6874b616",
   "metadata": {},
   "outputs": [
    {
     "ename": "SyntaxError",
     "evalue": "invalid syntax (3212279177.py, line 1)",
     "output_type": "error",
     "traceback": [
      "\u001b[1;36m  Cell \u001b[1;32mIn[3], line 1\u001b[1;36m\u001b[0m\n\u001b[1;33m    apt-get install pandoc\u001b[0m\n\u001b[1;37m            ^\u001b[0m\n\u001b[1;31mSyntaxError\u001b[0m\u001b[1;31m:\u001b[0m invalid syntax\n"
     ]
    }
   ],
   "source": [
    "apt-get install pandoc"
   ]
  },
  {
   "cell_type": "code",
   "execution_count": 1,
   "id": "e9bb5cc1",
   "metadata": {},
   "outputs": [
    {
     "ename": "SyntaxError",
     "evalue": "invalid syntax (1457387238.py, line 1)",
     "output_type": "error",
     "traceback": [
      "\u001b[1;36m  Cell \u001b[1;32mIn[1], line 1\u001b[1;36m\u001b[0m\n\u001b[1;33m    jupyter nbconvert --generate-config\u001b[0m\n\u001b[1;37m            ^\u001b[0m\n\u001b[1;31mSyntaxError\u001b[0m\u001b[1;31m:\u001b[0m invalid syntax\n"
     ]
    }
   ],
   "source": [
    "jupyter nbconvert --generate-config"
   ]
  },
  {
   "cell_type": "code",
   "execution_count": null,
   "id": "32625dae",
   "metadata": {},
   "outputs": [],
   "source": []
  }
 ],
 "metadata": {
  "kernelspec": {
   "display_name": "Python 3 (ipykernel)",
   "language": "python",
   "name": "python3"
  },
  "language_info": {
   "codemirror_mode": {
    "name": "ipython",
    "version": 3
   },
   "file_extension": ".py",
   "mimetype": "text/x-python",
   "name": "python",
   "nbconvert_exporter": "python",
   "pygments_lexer": "ipython3",
   "version": "3.11.4"
  }
 },
 "nbformat": 4,
 "nbformat_minor": 5
}
